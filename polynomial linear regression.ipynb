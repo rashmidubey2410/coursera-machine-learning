{
 "cells": [
  {
   "cell_type": "code",
   "execution_count": 209,
   "metadata": {},
   "outputs": [],
   "source": [
    "import numpy as np\n",
    "import pandas as pd\n",
    "import matplotlib.pyplot as plt\n",
    "\n",
    "#for Linear regression\n",
    "from sklearn.linear_model import LinearRegression\n",
    "#for polynomial\n",
    "\n",
    "from sklearn.preprocessing import PolynomialFeatures\n",
    "\n",
    "\n",
    "data=pd.read_csv(\"Position_Salaries.csv\")"
   ]
  },
  {
   "cell_type": "code",
   "execution_count": 221,
   "metadata": {},
   "outputs": [],
   "source": [
    "#x=data.iloc[:,1].values\n",
    "#x= np.reshape(x,(-1,1))\n",
    "\n",
    "# OR\n",
    "\n",
    "x=data.iloc[:,1].values           #check  x=data.iloc[:,1:2]  for difference \n",
    "y=data.iloc[:,2].values\n",
    "\n",
    "x= x.reshape(-1,1)\n",
    "y= y.reshape(-1,1)"
   ]
  },
  {
   "cell_type": "code",
   "execution_count": 222,
   "metadata": {},
   "outputs": [],
   "source": [
    "# not goint to spli the data because data set is small\n",
    "# first llinear regression than polynomial regression"
   ]
  },
  {
   "cell_type": "code",
   "execution_count": 223,
   "metadata": {},
   "outputs": [],
   "source": [
    "#linear regression code\n",
    "\n",
    "lin_reg = LinearRegression()\n",
    "\n",
    "lin_reg.fit(x,y)\n",
    "y_pred=lin_reg.predict(x)"
   ]
  },
  {
   "cell_type": "code",
   "execution_count": 224,
   "metadata": {},
   "outputs": [],
   "source": [
    "#polynomial regression\n",
    "\n",
    "poly_reg = PolynomialFeatures(degree=4)\n",
    "x_poly=poly_reg.fit_transform(x)\n",
    "poly_reg.fit(x_poly,y)\n",
    "poly_reg2=LinearRegression()\n",
    "poly_reg2.fit(x_poly,y)\n",
    "y_predpoly=poly_reg2.predict(poly_reg.fit_transform(x))"
   ]
  },
  {
   "cell_type": "code",
   "execution_count": 225,
   "metadata": {},
   "outputs": [
    {
     "data": {
      "image/png": "[encoded data removed]",
      "text/plain": [
       "<Figure size 432x288 with 1 Axes>"
      ]
     },
     "metadata": {
      "needs_background": "light"
     },
     "output_type": "display_data"
    }
   ],
   "source": [
    "#plot for linear regression\n",
    "\n",
    "plt.scatter(x,y,color=\"blue\") \n",
    "plt.plot(x,y_pred,color='red')\n",
    "\n",
    "plt.title('Linear Model')\n",
    "plt.xlabel('position')\n",
    "plt.ylabel('salary')\n",
    "plt.show()"
   ]
  },
  {
   "cell_type": "code",
   "execution_count": 226,
   "metadata": {},
   "outputs": [
    {
     "data": {
      "image/png": "[encoded data removed]",
      "text/plain": [
       "<Figure size 432x288 with 1 Axes>"
      ]
     },
     "metadata": {
      "needs_background": "light"
     },
     "output_type": "display_data"
    }
   ],
   "source": [
    "#plot for Polynomial regression\n",
    "\n",
    "plt.scatter(x,y, color=\"blue\") \n",
    "plt.plot(x,poly_reg2.predict(poly_reg.fit_transform(x)),color='red') \n",
    "\n",
    "\n",
    "plt.title('Linear Model')\n",
    "plt.xlabel('position')\n",
    "plt.ylabel('salary')\n",
    "plt.show()"
   ]
  },
  {
   "cell_type": "code",
   "execution_count": 233,
   "metadata": {},
   "outputs": [],
   "source": [
    "#try with different degree 2,3,4,5\n"
   ]
  },
  {
   "cell_type": "code",
   "execution_count": 238,
   "metadata": {},
   "outputs": [
    {
     "name": "stdout",
     "output_type": "stream",
     "text": [
      "[[330378.78787879]]\n"
     ]
    }
   ],
   "source": [
    "#Predicting the final result with the Linear Regression model:\n",
    "lin_pred=lin_reg.predict([[6.5]])\n",
    "print(lin_pred)"
   ]
  },
  {
   "cell_type": "code",
   "execution_count": 241,
   "metadata": {},
   "outputs": [
    {
     "name": "stdout",
     "output_type": "stream",
     "text": [
      "[[158862.45265153]]\n"
     ]
    }
   ],
   "source": [
    "#Predicting the final result with the Polynomial Regression model:\n",
    "poly_pred=poly_reg2.predict(poly_reg.fit_transform([[6.5]]))\n",
    "print(poly_pred)"
   ]
  },
  {
   "cell_type": "code",
   "execution_count": 242,
   "metadata": {},
   "outputs": [],
   "source": [
    "#s we can see, the predicted output for the Polynomial Regression is [158862.45265153], \n",
    "#which is much closer to real value hence, we can say that future employee is saying true. "
   ]
  },
  {
   "cell_type": "code",
   "execution_count": null,
   "metadata": {},
   "outputs": [],
   "source": []
  },
  {
   "cell_type": "code",
   "execution_count": null,
   "metadata": {},
   "outputs": [],
   "source": []
  }
 ],
 "metadata": {
  "kernelspec": {
   "display_name": "Python 3",
   "language": "python",
   "name": "python3"
  },
  "language_info": {
   "codemirror_mode": {
    "name": "ipython",
    "version": 3
   },
   "file_extension": ".py",
   "mimetype": "text/x-python",
   "name": "python",
   "nbconvert_exporter": "python",
   "pygments_lexer": "ipython3",
   "version": "3.7.4"
  }
 },
 "nbformat": 4,
 "nbformat_minor": 2
}
